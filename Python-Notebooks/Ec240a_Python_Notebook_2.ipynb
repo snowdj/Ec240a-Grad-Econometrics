{
 "cells": [
  {
   "cell_type": "markdown",
   "metadata": {},
   "source": [
    "# Notebook 2: Short, Long and Auxiliary Linear Regression\n",
    "_Bryan Graham - University of California - Berkeley_\n",
    "\n",
    "(with assistance from Seongjoo Min)\n",
    "\n",
    "_Ec 240a: Econometrics, Fall 2015_\n",
    "\n",
    "\n"
   ]
  },
  {
   "cell_type": "markdown",
   "metadata": {},
   "source": [
    "Class lectures have emphasized the various iteration properties of linear predictors. In this notebook we will use the subsample of white male NLSY79 respondents featured in Notebook 1 to concretely illustrate the sample analogs of these properties.\n",
    "<br>\n",
    "<br>\n",
    "We will consider the \"long\" least squares fit of log earnings onto a constant, years of completed schooling and AFQT percentile score. We will show that the coefficient on schooling in the \"short\" least squares fit of log earnings onto a constant and years of completed schooling alone can be recovered from a combination of the \"long\" fit and the \"auxiliary\" least squares fit of AFQT onto a constant and years of completed schooling. This provides a concrete illustration of what is sometimes called the \"omitted variable bias\" formula in econometrics textbooks. I would like to emphasize that I dislike that terminology. A more insightful framing of the result is as a consequence of the law-of-iterated linear predictors.\n",
    "<br>\n",
    "<br>\n",
    "We then turn to an illustration of the Frisch-Waugh Theorem. Specifically we show that that the coefficient on schooling in the \"long\" least squares fit can be recovered from the least squares fit of log earnings onto a certain residual. More specifically we compute the least squares fit of schooling onto a constant and AFQT score. We then compute the vector of residuals associated with this fit. This provides the component of years of completed schooling that is uncorrelated with AFQT scores. Finally we compute the least squares fit of log earnings onto these residuals (excluding the constant term). The coefficient on these residuals numerically coincides with the coefficient on schooling in the long regression fit. This is the Frisch-Waugh result.\n",
    "<br>\n",
    "<br>\n",
    "The residual regression result has a variety of computational uses (it arises frequently in panel data analysis), and also provides insight into how conditioning on additional control variables affects the coefficient on the variable of interest in the context of linear regression analysis. It can also help in your understanding of more complex methods of covariate adjustment, as in the, for example, the partially linear model.\n",
    "<br>\n",
    "<br>\n",
    "The notebook ends by providing an illustration of the so-called Bayesian Bootstrap. The Bayesian Bootstrap is a method of drawing from a particular posterior distribution for our linear predictor coefficients. We motivate and develop this approach later in the course."
   ]
  },
  {
   "cell_type": "code",
   "execution_count": 1,
   "metadata": {
    "collapsed": true
   },
   "outputs": [],
   "source": [
    "# Direct Python to plot all figures inline (i.e., not in a separate window)\n",
    "%matplotlib inline\n",
    "\n",
    "# Load libraries\n",
    "import numpy as np\n",
    "import pandas as pd\n",
    "import seaborn as sns\n",
    "import matplotlib.pyplot as plt\n",
    "import statsmodels.api as sm"
   ]
  },
  {
   "cell_type": "code",
   "execution_count": 2,
   "metadata": {
    "collapsed": true
   },
   "outputs": [],
   "source": [
    "from __future__ import division"
   ]
  },
  {
   "cell_type": "markdown",
   "metadata": {},
   "source": [
    "We begin by loading the subsample of white male NLSY79 respondents used in Notebook 1."
   ]
  },
  {
   "cell_type": "code",
   "execution_count": 3,
   "metadata": {
    "collapsed": false
   },
   "outputs": [],
   "source": [
    "# Directory where nlsy79.csv file (created in Ec240a Python Notebook 1) is located\n",
    "workdir =  '/Users/bgraham/Dropbox/Teaching/Teaching_Datasets/'"
   ]
  },
  {
   "cell_type": "code",
   "execution_count": 4,
   "metadata": {
    "collapsed": false
   },
   "outputs": [
    {
     "data": {
      "text/html": [
       "<div>\n",
       "<table border=\"1\" class=\"dataframe\">\n",
       "  <thead>\n",
       "    <tr style=\"text-align: right;\">\n",
       "      <th></th>\n",
       "      <th>Unnamed: 0</th>\n",
       "      <th>PID_79</th>\n",
       "      <th>HHID_79</th>\n",
       "      <th>year_born</th>\n",
       "      <th>Earnings</th>\n",
       "      <th>HGC_Age28</th>\n",
       "      <th>AFQT</th>\n",
       "    </tr>\n",
       "  </thead>\n",
       "  <tbody>\n",
       "    <tr>\n",
       "      <th>0</th>\n",
       "      <td>5</td>\n",
       "      <td>6</td>\n",
       "      <td>5</td>\n",
       "      <td>60</td>\n",
       "      <td>57623.856667</td>\n",
       "      <td>16</td>\n",
       "      <td>99.392998</td>\n",
       "    </tr>\n",
       "    <tr>\n",
       "      <th>1</th>\n",
       "      <td>6</td>\n",
       "      <td>7</td>\n",
       "      <td>7</td>\n",
       "      <td>64</td>\n",
       "      <td>34636.081000</td>\n",
       "      <td>12</td>\n",
       "      <td>47.411999</td>\n",
       "    </tr>\n",
       "    <tr>\n",
       "      <th>2</th>\n",
       "      <td>8</td>\n",
       "      <td>9</td>\n",
       "      <td>9</td>\n",
       "      <td>63</td>\n",
       "      <td>48700.858250</td>\n",
       "      <td>14</td>\n",
       "      <td>59.682999</td>\n",
       "    </tr>\n",
       "    <tr>\n",
       "      <th>3</th>\n",
       "      <td>12</td>\n",
       "      <td>13</td>\n",
       "      <td>13</td>\n",
       "      <td>58</td>\n",
       "      <td>56102.037000</td>\n",
       "      <td>16</td>\n",
       "      <td>72.313004</td>\n",
       "    </tr>\n",
       "    <tr>\n",
       "      <th>4</th>\n",
       "      <td>14</td>\n",
       "      <td>15</td>\n",
       "      <td>15</td>\n",
       "      <td>64</td>\n",
       "      <td>0.000000</td>\n",
       "      <td>16</td>\n",
       "      <td>82.260002</td>\n",
       "    </tr>\n",
       "  </tbody>\n",
       "</table>\n",
       "</div>"
      ],
      "text/plain": [
       "   Unnamed: 0  PID_79  HHID_79  year_born      Earnings  HGC_Age28       AFQT\n",
       "0           5       6        5         60  57623.856667         16  99.392998\n",
       "1           6       7        7         64  34636.081000         12  47.411999\n",
       "2           8       9        9         63  48700.858250         14  59.682999\n",
       "3          12      13       13         58  56102.037000         16  72.313004\n",
       "4          14      15       15         64      0.000000         16  82.260002"
      ]
     },
     "execution_count": 4,
     "metadata": {},
     "output_type": "execute_result"
    }
   ],
   "source": [
    "# Read in NLSY79 Extract\n",
    "nlsy79 = pd.read_csv(workdir+'nlsy79.csv') # Reading .csv as DataFrame\n",
    "\n",
    "# Hierarchical index: household, then individual; keep indices as columns too\n",
    "nlsy79.set_index(['HHID_79','PID_79'], drop=False)\n",
    "\n",
    "# Display the first few rows of the dataframe\n",
    "nlsy79.head()"
   ]
  },
  {
   "cell_type": "markdown",
   "metadata": {},
   "source": [
    "Our linear regression analysis will use log earnings. A long literature in labor economics documents that average log earnings are approximately linear in years of completed schooling. A consequence of working with log earnings as our outcome variable is that we will need to confine our analysis to NLSY respondents with non-zero earnings. This further reduces the size of our sample (from 1,969 to 1,906). Recall that our target subsample included 2,439 respondents"
   ]
  },
  {
   "cell_type": "code",
   "execution_count": 5,
   "metadata": {
    "collapsed": false
   },
   "outputs": [
    {
     "data": {
      "text/html": [
       "<div>\n",
       "<table border=\"1\" class=\"dataframe\">\n",
       "  <thead>\n",
       "    <tr style=\"text-align: right;\">\n",
       "      <th></th>\n",
       "      <th>PID_79</th>\n",
       "      <th>HHID_79</th>\n",
       "      <th>LogEarn</th>\n",
       "      <th>HGC_Age28</th>\n",
       "      <th>AFQT</th>\n",
       "    </tr>\n",
       "  </thead>\n",
       "  <tbody>\n",
       "    <tr>\n",
       "      <th>count</th>\n",
       "      <td>1906.000000</td>\n",
       "      <td>1906.000000</td>\n",
       "      <td>1906.000000</td>\n",
       "      <td>1906.000000</td>\n",
       "      <td>1906.000000</td>\n",
       "    </tr>\n",
       "    <tr>\n",
       "      <th>mean</th>\n",
       "      <td>3379.155824</td>\n",
       "      <td>3365.458552</td>\n",
       "      <td>10.754122</td>\n",
       "      <td>13.303253</td>\n",
       "      <td>55.674604</td>\n",
       "    </tr>\n",
       "    <tr>\n",
       "      <th>std</th>\n",
       "      <td>2549.500860</td>\n",
       "      <td>2528.404739</td>\n",
       "      <td>0.942789</td>\n",
       "      <td>2.486786</td>\n",
       "      <td>28.489772</td>\n",
       "    </tr>\n",
       "    <tr>\n",
       "      <th>min</th>\n",
       "      <td>6.000000</td>\n",
       "      <td>5.000000</td>\n",
       "      <td>1.878594</td>\n",
       "      <td>7.000000</td>\n",
       "      <td>0.000000</td>\n",
       "    </tr>\n",
       "    <tr>\n",
       "      <th>25%</th>\n",
       "      <td>1582.750000</td>\n",
       "      <td>1579.750000</td>\n",
       "      <td>10.399056</td>\n",
       "      <td>12.000000</td>\n",
       "      <td>31.700499</td>\n",
       "    </tr>\n",
       "    <tr>\n",
       "      <th>50%</th>\n",
       "      <td>3126.000000</td>\n",
       "      <td>3124.000000</td>\n",
       "      <td>10.832781</td>\n",
       "      <td>12.000000</td>\n",
       "      <td>58.341002</td>\n",
       "    </tr>\n",
       "    <tr>\n",
       "      <th>75%</th>\n",
       "      <td>4639.000000</td>\n",
       "      <td>4635.250000</td>\n",
       "      <td>11.242632</td>\n",
       "      <td>16.000000</td>\n",
       "      <td>80.109503</td>\n",
       "    </tr>\n",
       "    <tr>\n",
       "      <th>max</th>\n",
       "      <td>12139.000000</td>\n",
       "      <td>12137.000000</td>\n",
       "      <td>12.660816</td>\n",
       "      <td>20.000000</td>\n",
       "      <td>100.000000</td>\n",
       "    </tr>\n",
       "  </tbody>\n",
       "</table>\n",
       "</div>"
      ],
      "text/plain": [
       "             PID_79       HHID_79      LogEarn    HGC_Age28         AFQT\n",
       "count   1906.000000   1906.000000  1906.000000  1906.000000  1906.000000\n",
       "mean    3379.155824   3365.458552    10.754122    13.303253    55.674604\n",
       "std     2549.500860   2528.404739     0.942789     2.486786    28.489772\n",
       "min        6.000000      5.000000     1.878594     7.000000     0.000000\n",
       "25%     1582.750000   1579.750000    10.399056    12.000000    31.700499\n",
       "50%     3126.000000   3124.000000    10.832781    12.000000    58.341002\n",
       "75%     4639.000000   4635.250000    11.242632    16.000000    80.109503\n",
       "max    12139.000000  12137.000000    12.660816    20.000000   100.000000"
      ]
     },
     "execution_count": 5,
     "metadata": {},
     "output_type": "execute_result"
    }
   ],
   "source": [
    "# Drop units with zero earnings (will evaluate to -Inf by np.log) and compute log earnings\n",
    "nlsy79 = nlsy79[nlsy79.Earnings!=0]\n",
    "nlsy79['LogEarn'] = np.log(nlsy79.Earnings) # Log earnings\n",
    "\n",
    "# Only return earnings, schooling and AFQT variables\n",
    "nlsy79 = nlsy79[[\"PID_79\",\"HHID_79\",\"LogEarn\",\"HGC_Age28\",\"AFQT\"]] \n",
    "nlsy79.describe()"
   ]
  },
  {
   "cell_type": "markdown",
   "metadata": {},
   "source": [
    "We begin our analysis by computing the least squares fit of log earnings onto a constant and years of completed schooling (i.e., the short regression). We will use the implementation of OLS found in the statsmodels library. Documentation for this library as well as a variety of code examples can be found at http://statsmodels.sourceforge.net/#."
   ]
  },
  {
   "cell_type": "code",
   "execution_count": 6,
   "metadata": {
    "collapsed": false
   },
   "outputs": [
    {
     "name": "stdout",
     "output_type": "stream",
     "text": [
      "------------------------------------------------------------------------------\n",
      "- Model SR : Short Regression                                                 -\n",
      "------------------------------------------------------------------------------\n",
      "\n",
      "                            OLS Regression Results                            \n",
      "==============================================================================\n",
      "Dep. Variable:                LogEarn   R-squared:                       0.184\n",
      "Model:                            OLS   Adj. R-squared:                  0.183\n",
      "Method:                 Least Squares   F-statistic:                     417.6\n",
      "Date:                Fri, 16 Oct 2015   Prob (F-statistic):           4.49e-84\n",
      "Time:                        10:53:39   Log-Likelihood:                -2398.1\n",
      "No. Observations:                1906   AIC:                             4800.\n",
      "Df Residuals:                    1904   BIC:                             4811.\n",
      "Df Model:                           1                                         \n",
      "Covariance Type:                  HC0                                         \n",
      "==============================================================================\n",
      "                 coef    std err          z      P>|z|      [95.0% Conf. Int.]\n",
      "------------------------------------------------------------------------------\n",
      "const          8.5916      0.111     77.207      0.000         8.373     8.810\n",
      "HGC_Age28      0.1626      0.008     20.435      0.000         0.147     0.178\n",
      "==============================================================================\n",
      "Omnibus:                     1303.659   Durbin-Watson:                   1.854\n",
      "Prob(Omnibus):                  0.000   Jarque-Bera (JB):            32441.197\n",
      "Skew:                          -2.856   Prob(JB):                         0.00\n",
      "Kurtosis:                      22.387   Cond. No.                         74.1\n",
      "==============================================================================\n",
      "\n",
      "Warnings:\n",
      "[1] Standard Errors are heteroscedasticity robust (HC0)\n"
     ]
    }
   ],
   "source": [
    "y    = nlsy79['LogEarn'] \n",
    "X    = nlsy79['HGC_Age28']\n",
    "W    = nlsy79['AFQT']\n",
    "XW   = nlsy79[['HGC_Age28','AFQT']]\n",
    "\n",
    "# Short regression: OLS fit of log earnings on years of schooling\n",
    "# Use White's (1980) heteroscedastic robust variance-covariance estimator\n",
    "short_reg=sm.OLS(y,sm.add_constant(X)).fit(cov_type='HC0')\n",
    "print '------------------------------------------------------------------------------'\n",
    "print '- Model SR : Short Regression                                                 -'\n",
    "print '------------------------------------------------------------------------------'\n",
    "print ''\n",
    "print(short_reg.summary())\n"
   ]
  },
  {
   "cell_type": "markdown",
   "metadata": {},
   "source": [
    "Our OLS fit suggests that schooling is a strong (linear) predictor of log earnings. Imagine we drew two individuals at random (from the population of employed white males born between 1957 and 1964 and resident in the United States in 1979) and observed that one of these individuals had completed college, while the second had competed only high school. What should our prediction of the earnings gap between these two individuals be? Our OLS fit suggests using the prediction $4\\times 0.16\\times 100 = 64$ percent.\n",
    "<br>\n",
    "<br>\n",
    "The standard error reported in the results table is the one due to White (1980). This standard error provides an estimate of the variability of our coefficient estimate across repeated large samples. We will motivate this measure of uncertaintly and derive it formally later in the course.\n",
    "<br>\n",
    "<br>\n",
    "Next we compute the long least squares fit of log earnings onto a constant, schooling and AFQT score percentile."
   ]
  },
  {
   "cell_type": "code",
   "execution_count": 7,
   "metadata": {
    "collapsed": false
   },
   "outputs": [
    {
     "name": "stdout",
     "output_type": "stream",
     "text": [
      "------------------------------------------------------------------------------\n",
      "- Model LR : Long Regression                                                  -\n",
      "------------------------------------------------------------------------------\n",
      "\n",
      "                            OLS Regression Results                            \n",
      "==============================================================================\n",
      "Dep. Variable:                LogEarn   R-squared:                       0.209\n",
      "Model:                            OLS   Adj. R-squared:                  0.208\n",
      "Method:                 Least Squares   F-statistic:                     217.8\n",
      "Date:                Fri, 16 Oct 2015   Prob (F-statistic):           6.50e-86\n",
      "Time:                        10:54:10   Log-Likelihood:                -2367.9\n",
      "No. Observations:                1906   AIC:                             4742.\n",
      "Df Residuals:                    1903   BIC:                             4758.\n",
      "Df Model:                           2                                         \n",
      "Covariance Type:                  HC0                                         \n",
      "==============================================================================\n",
      "                 coef    std err          z      P>|z|      [95.0% Conf. Int.]\n",
      "------------------------------------------------------------------------------\n",
      "const          8.9151      0.106     84.302      0.000         8.708     9.122\n",
      "HGC_Age28      0.1086      0.010     11.285      0.000         0.090     0.128\n",
      "AFQT           0.0071      0.001      6.804      0.000         0.005     0.009\n",
      "==============================================================================\n",
      "Omnibus:                     1291.784   Durbin-Watson:                   1.861\n",
      "Prob(Omnibus):                  0.000   Jarque-Bera (JB):            32269.870\n",
      "Skew:                          -2.816   Prob(JB):                         0.00\n",
      "Kurtosis:                      22.355   Cond. No.                         375.\n",
      "==============================================================================\n",
      "\n",
      "Warnings:\n",
      "[1] Standard Errors are heteroscedasticity robust (HC0)\n"
     ]
    }
   ],
   "source": [
    "# Long regression: OLS fit of log earnings on years of schooling & AFQT percentile\n",
    "# Use White's (1980) heteroscedastic robust variance-covariance estimator\n",
    "long_reg=sm.OLS(y,sm.add_constant(XW)).fit(cov_type='HC0')\n",
    "print '------------------------------------------------------------------------------'\n",
    "print '- Model LR : Long Regression                                                  -'\n",
    "print '------------------------------------------------------------------------------'\n",
    "print ''\n",
    "print(long_reg.summary())"
   ]
  },
  {
   "cell_type": "markdown",
   "metadata": {},
   "source": [
    "Additionally conditioning on AFQT changes the coefficient of schooling quite a bit (from 0.16 to 0.11). If our two randomly drawn individuals also happened to have identical AFQT scores (and we observed this coincidence), then our long regression fit suggests that our predicted earnings gap should only be $4\\times 0.11\\times 100 = 44$ percent.\n",
    "<br>\n",
    "<br>\n",
    "Why are the predictions associated with the short and long regression coefficients different? The coefficient on schooling in the short regression reflects the fact that the distribution of AFQT differs systematically across subpopulations defined in terms of schooling. We can see this more concretely by computing the auxiliary regression of schooling onto a constant and AFQT score."
   ]
  },
  {
   "cell_type": "code",
   "execution_count": 8,
   "metadata": {
    "collapsed": false
   },
   "outputs": [
    {
     "name": "stdout",
     "output_type": "stream",
     "text": [
      "------------------------------------------------------------------------------\n",
      "- Model AR : Model with years of schooling alone & AFQT dummies               -\n",
      "------------------------------------------------------------------------------\n",
      "\n",
      "                            OLS Regression Results                            \n",
      "==============================================================================\n",
      "Dep. Variable:                   AFQT   R-squared:                       0.443\n",
      "Model:                            OLS   Adj. R-squared:                  0.443\n",
      "Method:                 Least Squares   F-statistic:                     2252.\n",
      "Date:                Fri, 16 Oct 2015   Prob (F-statistic):               0.00\n",
      "Time:                        10:54:29   Log-Likelihood:                -8530.8\n",
      "No. Observations:                1906   AIC:                         1.707e+04\n",
      "Df Residuals:                    1904   BIC:                         1.708e+04\n",
      "Df Model:                           1                                         \n",
      "Covariance Type:                  HC0                                         \n",
      "==============================================================================\n",
      "                 coef    std err          z      P>|z|      [95.0% Conf. Int.]\n",
      "------------------------------------------------------------------------------\n",
      "const        -45.7454      2.266    -20.188      0.000       -50.187   -41.304\n",
      "HGC_Age28      7.6237      0.161     47.460      0.000         7.309     7.939\n",
      "==============================================================================\n",
      "Omnibus:                       36.080   Durbin-Watson:                   1.794\n",
      "Prob(Omnibus):                  0.000   Jarque-Bera (JB):               21.854\n",
      "Skew:                          -0.098   Prob(JB):                     1.80e-05\n",
      "Kurtosis:                       2.513   Cond. No.                         74.1\n",
      "==============================================================================\n",
      "\n",
      "Warnings:\n",
      "[1] Standard Errors are heteroscedasticity robust (HC0)\n"
     ]
    }
   ],
   "source": [
    "# Auxiliary linear regression: OLS fit of AFQT on years of schooling\n",
    "# Use White's (1980) heteroscedastic robust variance-covariance estimator\n",
    "aux_reg=sm.OLS(W,sm.add_constant(X)).fit(cov_type='HC0')\n",
    "print '------------------------------------------------------------------------------'\n",
    "print '- Model AR : Model with years of schooling alone & AFQT dummies               -'\n",
    "print '------------------------------------------------------------------------------'\n",
    "print ''\n",
    "print(aux_reg.summary())"
   ]
  },
  {
   "cell_type": "markdown",
   "metadata": {},
   "source": [
    "The auxiliary least squares fit confirms that AFQT varies systematically with schooling. Specifically we would predict a AFQT percentile gap between a college and high school graduate of $4\\times 7.6 = 30.4$ percent. If AFQT also helps to (linearly) predict earnings (which the long regression fit suggests it does), then the coefficient on schooling in the short and long fits will differ.\n",
    "<br>\n",
    "<br>\n",
    "Using the law of iterated linear predictors we have that the short regression coefficient on schooling should equal the long regression coefficient plus the product of the auxiliary regression coefficient on schooling times the long regression coefficient on AFQT: $0.1626 = 0.1086 + 7.6237\\times 0.0071 = 0.1626$\n",
    "<br>\n",
    "<br>\n",
    "We next compute the residual regression, illustrating the Frish-Waugh Theorem."
   ]
  },
  {
   "cell_type": "code",
   "execution_count": 9,
   "metadata": {
    "collapsed": false
   },
   "outputs": [
    {
     "name": "stdout",
     "output_type": "stream",
     "text": [
      "------------------------------------------------------------------------------\n",
      "- Model RR : Residual regression of earnings onto (residualized) schooling   -\n",
      "------------------------------------------------------------------------------\n",
      "\n",
      "                            OLS Regression Results                            \n",
      "==============================================================================\n",
      "Dep. Variable:                LogEarn   R-squared:                       0.000\n",
      "Model:                            OLS   Adj. R-squared:                 -0.000\n",
      "Method:                 Least Squares   F-statistic:                    0.6561\n",
      "Date:                Fri, 16 Oct 2015   Prob (F-statistic):              0.418\n",
      "Time:                        10:54:57   Log-Likelihood:                -7238.8\n",
      "No. Observations:                1906   AIC:                         1.448e+04\n",
      "Df Residuals:                    1905   BIC:                         1.449e+04\n",
      "Df Model:                           1                                         \n",
      "Covariance Type:                  HC0                                         \n",
      "==============================================================================\n",
      "                 coef    std err          z      P>|z|      [95.0% Conf. Int.]\n",
      "------------------------------------------------------------------------------\n",
      "Res_HGC        0.1086      0.134      0.810      0.418        -0.154     0.372\n",
      "==============================================================================\n",
      "Omnibus:                     1176.115   Durbin-Watson:                   0.013\n",
      "Prob(Omnibus):                  0.000   Jarque-Bera (JB):            22197.484\n",
      "Skew:                          -2.553   Prob(JB):                         0.00\n",
      "Kurtosis:                      18.920   Cond. No.                         1.00\n",
      "==============================================================================\n",
      "\n",
      "Warnings:\n",
      "[1] Standard Errors are heteroscedasticity robust (HC0)\n"
     ]
    }
   ],
   "source": [
    "# Residual linear regression: OLS fit of log earnings on (residualized) years of schooling\n",
    "\n",
    "# Auxiliary regression of years of schooling onto AFQT; save residuals\n",
    "aux_reg=sm.OLS(X,sm.add_constant(W)).fit(cov_type='HC0')\n",
    "V = pd.DataFrame({'Res_HGC':aux_reg.resid})\n",
    "\n",
    "# Compute residual regression\n",
    "res_reg=sm.OLS(y,V,hasconst=False).fit(cov_type='HC0')\n",
    "print '------------------------------------------------------------------------------'\n",
    "print '- Model RR : Residual regression of earnings onto (residualized) schooling   -'\n",
    "print '------------------------------------------------------------------------------'\n",
    "print ''\n",
    "print(res_reg.summary())"
   ]
  },
  {
   "cell_type": "markdown",
   "metadata": {},
   "source": [
    "The Frish-Waugh Theorem provides insight into the effect of conditioning in the linear regression context. The coefficient on schooling in the long regression reflects the covariance between log earnings and that component of schooling _which is uncorrelated with_ the additional included/auxiliary variables.\n",
    "<br>\n",
    "<br>\n",
    "We end our notebook with a snippet of code which implements the Bayesian Bootstrap. You can read more about this procedure in Chamberlain and Imbens (2003, _Journal of Business and Economic Statistics_). We will develop this resampling procedure more carefully later in the course. Mechanically it generates an estimate of the posterior distribution of our long linear regression coefficients by repeated computation of the least squares fit using different random perturbations of our sample. The code provides an illustration of how to construct a \"for loop\" in Python and also illustrates more of the graphing capabilities of the matplotlib library and its seaborn add-on.\n",
    "<br>\n",
    "<br>\n",
    "An interesting question is how the \"degree-of-belief\" motivated posterior distribution generated by the Bayesian Bootstrap relates to the asymptotically normal repeated sampling distribution?"
   ]
  },
  {
   "cell_type": "code",
   "execution_count": 10,
   "metadata": {
    "collapsed": false
   },
   "outputs": [
    {
     "name": "stdout",
     "output_type": "stream",
     "text": [
      "\n",
      "\n",
      "=======================================================================\n",
      "BAYESIAN BOOTSTRAP RESULTS\n",
      "=======================================================================\n",
      "2.5, 5, 50, 95, 97.5 Percentiles\n",
      "=======================================================================\n",
      "           Ratio  Return-to-AFQT  Return-to-Schooling\n",
      "0.025  10.160678        0.005152             0.089551\n",
      "0.050  10.885788        0.005439             0.092750\n",
      "0.500  15.437291        0.007031             0.108781\n",
      "0.950  22.107391        0.008822             0.124732\n",
      "0.975  23.624722        0.009199             0.127659\n",
      "=======================================================================\n",
      "Summary Statistics\n",
      "=======================================================================\n",
      "              Ratio  Return-to-AFQT  Return-to-Schooling\n",
      "count  10000.000000    10000.000000         10000.000000\n",
      "mean      15.845795        0.007070             0.108664\n",
      "std        3.523269        0.001036             0.009702\n",
      "min        6.406703        0.002942             0.066383\n",
      "25%       13.391680        0.006369             0.102173\n",
      "50%       15.437291        0.007031             0.108781\n",
      "75%       17.864160        0.007742             0.115158\n",
      "max       48.778269        0.011484             0.151719\n",
      "=======================================================================\n"
     ]
    },
    {
     "data": {
      "image/png": "[encoded data removed]",
      "text/plain": [
       "<matplotlib.figure.Figure at 0x10bc65e50>"
      ]
     },
     "metadata": {},
     "output_type": "display_data"
    }
   ],
   "source": [
    "##############################################################################\n",
    "# Bayesian Bootstrap (cf., Chamberlain and Imbens (2003, JBES))              #\n",
    "##############################################################################\n",
    "\n",
    "XW = sm.add_constant(XW) # \"Permanently\" add constant to design matrix\n",
    "\n",
    "B = 10000                # Number of posterior draws\n",
    "M = np.empty((B,3))      # Matrix with posterior draws of statistics of interest\n",
    "N = len(y)               # Number of observations in dataset\n",
    "\n",
    "for b in range (0,B):\n",
    "    W = np.random.gamma(1.,1.,N) # Random draws of Gamma(1,1) variables\n",
    "    W = W/np.sum(W)              # Converting draws to Dirichlet \n",
    "    \n",
    "    result = sm.WLS(y,XW,weights=W).fit()\n",
    "    M[b,:] = np.matrix(result.params) # Linear regression with Dirichlet wgts\n",
    "    M[:,0] = M[:,1]/M[:,2]            # Replacing the constant coefficient with\n",
    "                                      # ratio of school-to-AFQT coefficients\n",
    "\n",
    "# Put Bayesian Bootstrap results in a pandas dataframe        \n",
    "BB=pd.DataFrame({'Ratio':M[:,0], 'Return-to-Schooling':M[:,1], 'Return-to-AFQT':M[:,2]})\n",
    "\n",
    "# Scatter (use seaborn add-on to matplotlib)\n",
    "sns.set(style=\"white\")\n",
    "sns.jointplot(\"Return-to-AFQT\",\"Return-to-Schooling\", data=BB, kind=\"scatter\", \\\n",
    "                        size=7, space=0, color=\"g\", xlim=(0.002,0.012), ylim=(0.06,0.16), stat_func=None)\n",
    "\n",
    "print '\\n'\n",
    "print '======================================================================='\n",
    "print 'BAYESIAN BOOTSTRAP RESULTS'\n",
    "print '======================================================================='\n",
    "print '2.5, 5, 50, 95, 97.5 Percentiles'\n",
    "print '=======================================================================' \n",
    "print BB.quantile(q=[0.025, 0.05, 0.5, 0.95, 0.975])\n",
    "print '======================================================================='\n",
    "print 'Summary Statistics'\n",
    "print '======================================================================='\n",
    "print BB.describe() \n",
    "print '======================================================================='\n",
    "\n",
    "del y, X, XW, B, M, N, result"
   ]
  },
  {
   "cell_type": "markdown",
   "metadata": {},
   "source": [
    "The figure above suggests that the posterior distribution of the linear predictor coefficients on schooling and AFQT could be well approximated by a bivariate normal distribution.\n",
    "<br>\n",
    "<br>\n",
    "How about the distribution of the ratio of the schooling and AFQT coefficients? This distribution is depicted in the histogram below. Here we see that a normal approximation may be less accurate. Specifically it would fail to capture the right-skewness of the posterior."
   ]
  },
  {
   "cell_type": "code",
   "execution_count": 11,
   "metadata": {
    "collapsed": false
   },
   "outputs": [
    {
     "data": {
      "text/plain": [
       "<matplotlib.text.Text at 0x10cd2ecd0>"
      ]
     },
     "execution_count": 11,
     "metadata": {},
     "output_type": "execute_result"
    },
    {
     "data": {
      "image/png": "[encoded data removed]",
      "text/plain": [
       "<matplotlib.figure.Figure at 0x10ba16c50>"
      ]
     },
     "metadata": {},
     "output_type": "display_data"
    }
   ],
   "source": [
    "# Histogram of coefficient ratio\n",
    "sns.distplot(BB['Ratio']);\n",
    "plt.title(\"Posterior Distribution of Ratio of Schooling-to-AFQT Linear Predictor Coefficients\")"
   ]
  },
  {
   "cell_type": "code",
   "execution_count": 12,
   "metadata": {
    "collapsed": false
   },
   "outputs": [
    {
     "data": {
      "text/html": [
       "<style>\n",
       "\n",
       "html {\n",
       "  font-size: 62.5% !important; }\n",
       "body {\n",
       "  font-size: 1.5em !important; /* currently ems cause chrome bug misinterpreting rems on body element */\n",
       "  line-height: 1.6 !important;\n",
       "  font-weight: 400 !important;\n",
       "  font-family: \"Raleway\", \"HelveticaNeue\", \"Helvetica Neue\", Helvetica, Arial, sans-serif !important;\n",
       "  color: #222 !important; }\n",
       "\n",
       "div{ border-radius: 0px !important;  }\n",
       "div.CodeMirror-sizer{ background: rgb(244, 244, 248) !important; }\n",
       "div.input_area{ background: rgb(244, 244, 248) !important; }\n",
       "\n",
       "div.out_prompt_overlay:hover{ background: rgb(244, 244, 248) !important; }\n",
       "div.input_prompt:hover{ background: rgb(244, 244, 248) !important; }\n",
       "\n",
       "h1, h2, h3, h4, h5, h6 {\n",
       "  color: #333 !important;\n",
       "  margin-top: 0 !important;\n",
       "  margin-bottom: 2rem !important;\n",
       "  font-weight: 300 !important; }\n",
       "h1 { font-size: 4.0rem !important; line-height: 1.2 !important;  letter-spacing: -.1rem !important;}\n",
       "h2 { font-size: 3.6rem !important; line-height: 1.25 !important; letter-spacing: -.1rem !important; }\n",
       "h3 { font-size: 3.0rem !important; line-height: 1.3 !important;  letter-spacing: -.1rem !important; }\n",
       "h4 { font-size: 2.4rem !important; line-height: 1.35 !important; letter-spacing: -.08rem !important; }\n",
       "h5 { font-size: 1.8rem !important; line-height: 1.5 !important;  letter-spacing: -.05rem !important; }\n",
       "h6 { font-size: 1.5rem !important; line-height: 1.6 !important;  letter-spacing: 0 !important; }\n",
       "\n",
       "@media (min-width: 550px) {\n",
       "  h1 { font-size: 5.0rem !important; }\n",
       "  h2 { font-size: 4.2rem !important; }\n",
       "  h3 { font-size: 3.6rem !important; }\n",
       "  h4 { font-size: 3.0rem !important; }\n",
       "  h5 { font-size: 2.4rem !important; }\n",
       "  h6 { font-size: 1.5rem !important; }\n",
       "}\n",
       "\n",
       "p {\n",
       "  margin-top: 0 !important; }\n",
       "  \n",
       "a {\n",
       "  color: #1EAEDB !important; }\n",
       "a:hover {\n",
       "  color: #0FA0CE !important; }\n",
       "  \n",
       "code {\n",
       "  padding: .2rem .5rem !important;\n",
       "  margin: 0 .2rem !important;\n",
       "  font-size: 90% !important;\n",
       "  white-space: nowrap !important;\n",
       "  background: #F1F1F1 !important;\n",
       "  border: 1px solid #E1E1E1 !important;\n",
       "  border-radius: 4px !important; }\n",
       "pre > code {\n",
       "  display: block !important;\n",
       "  padding: 1rem 1.5rem !important;\n",
       "  white-space: pre !important; }\n",
       "  \n",
       "button{ border-radius: 0px !important; }\n",
       ".navbar-inner{ background-image: none !important;  }\n",
       "select, textarea{ border-radius: 0px !important; }\n",
       "\n",
       "</style>"
      ],
      "text/plain": [
       "<IPython.core.display.HTML object>"
      ]
     },
     "execution_count": 12,
     "metadata": {},
     "output_type": "execute_result"
    }
   ],
   "source": [
    "# This imports an attractive notebook style from Github\n",
    "from IPython.core.display import HTML\n",
    "import urllib2\n",
    "HTML(urllib2.urlopen('http://bit.ly/1Bf5Hft').read())"
   ]
  }
 ],
 "metadata": {
  "kernelspec": {
   "display_name": "Python 2",
   "language": "python",
   "name": "python2"
  },
  "language_info": {
   "codemirror_mode": {
    "name": "ipython",
    "version": 2
   },
   "file_extension": ".py",
   "mimetype": "text/x-python",
   "name": "python",
   "nbconvert_exporter": "python",
   "pygments_lexer": "ipython2",
   "version": "2.7.10"
  }
 },
 "nbformat": 4,
 "nbformat_minor": 0
}
